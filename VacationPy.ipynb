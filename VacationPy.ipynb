{
 "cells": [
  {
   "cell_type": "markdown",
   "metadata": {},
   "source": [
    "# VacationPy\n",
    "----\n",
    "\n",
    "#### Note\n",
    "* Instructions have been included for each segment. You do not have to follow them exactly, but they are included to help you think through the steps."
   ]
  },
  {
   "cell_type": "code",
   "execution_count": 1,
   "metadata": {},
   "outputs": [],
   "source": [
    "# Dependencies and Setup\n",
    "import matplotlib.pyplot as plt\n",
    "import pandas as pd\n",
    "import numpy as np\n",
    "import requests\n",
    "import gmaps\n",
    "import os\n",
    "\n",
    "# Import API key\n",
    "from api_keys import g_key\n",
    "gmaps.configure(api_key=g_key)"
   ]
  },
  {
   "cell_type": "markdown",
   "metadata": {},
   "source": [
    "### Store Part I results into DataFrame\n",
    "* Load the csv exported in Part I to a DataFrame"
   ]
  },
  {
   "cell_type": "code",
   "execution_count": 2,
   "metadata": {},
   "outputs": [
    {
     "data": {
      "text/html": [
       "<div>\n",
       "<style scoped>\n",
       "    .dataframe tbody tr th:only-of-type {\n",
       "        vertical-align: middle;\n",
       "    }\n",
       "\n",
       "    .dataframe tbody tr th {\n",
       "        vertical-align: top;\n",
       "    }\n",
       "\n",
       "    .dataframe thead th {\n",
       "        text-align: right;\n",
       "    }\n",
       "</style>\n",
       "<table border=\"1\" class=\"dataframe\">\n",
       "  <thead>\n",
       "    <tr style=\"text-align: right;\">\n",
       "      <th></th>\n",
       "      <th>Cities</th>\n",
       "      <th>Latitude</th>\n",
       "      <th>Longitude</th>\n",
       "      <th>Temperature(F)</th>\n",
       "      <th>Humidity(%)</th>\n",
       "      <th>Cloudiness(%)</th>\n",
       "      <th>Wind Speed(MPH)</th>\n",
       "      <th>Country</th>\n",
       "      <th>Datetime</th>\n",
       "    </tr>\n",
       "  </thead>\n",
       "  <tbody>\n",
       "    <tr>\n",
       "      <th>0</th>\n",
       "      <td>San Jorge</td>\n",
       "      <td>-31.90</td>\n",
       "      <td>-61.86</td>\n",
       "      <td>64.00</td>\n",
       "      <td>28</td>\n",
       "      <td>0</td>\n",
       "      <td>4.00</td>\n",
       "      <td>AR</td>\n",
       "      <td>1590953101</td>\n",
       "    </tr>\n",
       "    <tr>\n",
       "      <th>1</th>\n",
       "      <td>Turukhansk</td>\n",
       "      <td>65.82</td>\n",
       "      <td>87.98</td>\n",
       "      <td>45.55</td>\n",
       "      <td>61</td>\n",
       "      <td>100</td>\n",
       "      <td>15.50</td>\n",
       "      <td>RU</td>\n",
       "      <td>1590953101</td>\n",
       "    </tr>\n",
       "    <tr>\n",
       "      <th>2</th>\n",
       "      <td>Busselton</td>\n",
       "      <td>-33.65</td>\n",
       "      <td>115.33</td>\n",
       "      <td>55.99</td>\n",
       "      <td>74</td>\n",
       "      <td>100</td>\n",
       "      <td>3.29</td>\n",
       "      <td>AU</td>\n",
       "      <td>1590953101</td>\n",
       "    </tr>\n",
       "    <tr>\n",
       "      <th>3</th>\n",
       "      <td>Kadoma</td>\n",
       "      <td>34.73</td>\n",
       "      <td>135.58</td>\n",
       "      <td>66.99</td>\n",
       "      <td>75</td>\n",
       "      <td>44</td>\n",
       "      <td>3.53</td>\n",
       "      <td>JP</td>\n",
       "      <td>1590953101</td>\n",
       "    </tr>\n",
       "    <tr>\n",
       "      <th>4</th>\n",
       "      <td>Lebu</td>\n",
       "      <td>-37.62</td>\n",
       "      <td>-73.65</td>\n",
       "      <td>53.96</td>\n",
       "      <td>64</td>\n",
       "      <td>47</td>\n",
       "      <td>17.54</td>\n",
       "      <td>CL</td>\n",
       "      <td>1590953101</td>\n",
       "    </tr>\n",
       "    <tr>\n",
       "      <th>...</th>\n",
       "      <td>...</td>\n",
       "      <td>...</td>\n",
       "      <td>...</td>\n",
       "      <td>...</td>\n",
       "      <td>...</td>\n",
       "      <td>...</td>\n",
       "      <td>...</td>\n",
       "      <td>...</td>\n",
       "      <td>...</td>\n",
       "    </tr>\n",
       "    <tr>\n",
       "      <th>557</th>\n",
       "      <td>Margate</td>\n",
       "      <td>51.38</td>\n",
       "      <td>1.39</td>\n",
       "      <td>60.01</td>\n",
       "      <td>72</td>\n",
       "      <td>30</td>\n",
       "      <td>4.00</td>\n",
       "      <td>GB</td>\n",
       "      <td>1590953188</td>\n",
       "    </tr>\n",
       "    <tr>\n",
       "      <th>558</th>\n",
       "      <td>Nanortalik</td>\n",
       "      <td>60.14</td>\n",
       "      <td>-45.24</td>\n",
       "      <td>43.48</td>\n",
       "      <td>71</td>\n",
       "      <td>100</td>\n",
       "      <td>2.62</td>\n",
       "      <td>GL</td>\n",
       "      <td>1590953188</td>\n",
       "    </tr>\n",
       "    <tr>\n",
       "      <th>559</th>\n",
       "      <td>Opuwo</td>\n",
       "      <td>-18.06</td>\n",
       "      <td>13.84</td>\n",
       "      <td>65.66</td>\n",
       "      <td>27</td>\n",
       "      <td>0</td>\n",
       "      <td>9.48</td>\n",
       "      <td>NaN</td>\n",
       "      <td>1590953188</td>\n",
       "    </tr>\n",
       "    <tr>\n",
       "      <th>560</th>\n",
       "      <td>Mezen'</td>\n",
       "      <td>65.85</td>\n",
       "      <td>44.24</td>\n",
       "      <td>37.13</td>\n",
       "      <td>80</td>\n",
       "      <td>100</td>\n",
       "      <td>6.42</td>\n",
       "      <td>RU</td>\n",
       "      <td>1590953188</td>\n",
       "    </tr>\n",
       "    <tr>\n",
       "      <th>561</th>\n",
       "      <td>Östersund</td>\n",
       "      <td>63.18</td>\n",
       "      <td>14.64</td>\n",
       "      <td>69.80</td>\n",
       "      <td>35</td>\n",
       "      <td>72</td>\n",
       "      <td>4.70</td>\n",
       "      <td>SE</td>\n",
       "      <td>1590953188</td>\n",
       "    </tr>\n",
       "  </tbody>\n",
       "</table>\n",
       "<p>562 rows × 9 columns</p>\n",
       "</div>"
      ],
      "text/plain": [
       "         Cities  Latitude  Longitude  Temperature(F)  Humidity(%)  \\\n",
       "0     San Jorge    -31.90     -61.86           64.00           28   \n",
       "1    Turukhansk     65.82      87.98           45.55           61   \n",
       "2     Busselton    -33.65     115.33           55.99           74   \n",
       "3        Kadoma     34.73     135.58           66.99           75   \n",
       "4          Lebu    -37.62     -73.65           53.96           64   \n",
       "..          ...       ...        ...             ...          ...   \n",
       "557     Margate     51.38       1.39           60.01           72   \n",
       "558  Nanortalik     60.14     -45.24           43.48           71   \n",
       "559       Opuwo    -18.06      13.84           65.66           27   \n",
       "560      Mezen'     65.85      44.24           37.13           80   \n",
       "561   Östersund     63.18      14.64           69.80           35   \n",
       "\n",
       "     Cloudiness(%)  Wind Speed(MPH) Country    Datetime  \n",
       "0                0             4.00      AR  1590953101  \n",
       "1              100            15.50      RU  1590953101  \n",
       "2              100             3.29      AU  1590953101  \n",
       "3               44             3.53      JP  1590953101  \n",
       "4               47            17.54      CL  1590953101  \n",
       "..             ...              ...     ...         ...  \n",
       "557             30             4.00      GB  1590953188  \n",
       "558            100             2.62      GL  1590953188  \n",
       "559              0             9.48     NaN  1590953188  \n",
       "560            100             6.42      RU  1590953188  \n",
       "561             72             4.70      SE  1590953188  \n",
       "\n",
       "[562 rows x 9 columns]"
      ]
     },
     "execution_count": 2,
     "metadata": {},
     "output_type": "execute_result"
    }
   ],
   "source": [
    "file = 'city.csv'\n",
    "city_df = pd.read_csv(file)\n",
    "city_df"
   ]
  },
  {
   "cell_type": "markdown",
   "metadata": {},
   "source": [
    "### Humidity Heatmap\n",
    "* Configure gmaps.\n",
    "* Use the Lat and Lng as locations and Humidity as the weight.\n",
    "* Add Heatmap layer to map."
   ]
  },
  {
   "cell_type": "code",
   "execution_count": 3,
   "metadata": {},
   "outputs": [],
   "source": [
    "coordinates = []\n",
    "coordinates = list(zip(city_df['Latitude'], city_df['Longitude']))\n",
    "humidity = city_df['Humidity(%)'].astype(float)"
   ]
  },
  {
   "cell_type": "code",
   "execution_count": 4,
   "metadata": {},
   "outputs": [
    {
     "data": {
      "application/vnd.jupyter.widget-view+json": {
       "model_id": "eb9b27d8af534d40b1a8719fb67be4dc",
       "version_major": 2,
       "version_minor": 0
      },
      "text/plain": [
       "Figure(layout=FigureLayout(border='1px solid black', height='300px', margin='0 auto 0 auto', padding='1px', wi…"
      ]
     },
     "metadata": {},
     "output_type": "display_data"
    }
   ],
   "source": [
    "figure_layout = {\n",
    "    'width': '400px',\n",
    "    'height': '300px',\n",
    "    'border': '1px solid black',\n",
    "    'padding': '1px',\n",
    "    'margin': '0 auto 0 auto'\n",
    "}\n",
    "fig = gmaps.figure(layout=figure_layout)\n",
    "heat_layer = gmaps.heatmap_layer(coordinates, weights=humidity, dissipating=False, max_intensity=100, point_radius=2)\n",
    "fig.add_layer(heat_layer)\n",
    "fig"
   ]
  },
  {
   "cell_type": "code",
   "execution_count": null,
   "metadata": {},
   "outputs": [],
   "source": []
  },
  {
   "cell_type": "markdown",
   "metadata": {},
   "source": [
    "### Create new DataFrame fitting weather criteria\n",
    "* Narrow down the cities to fit weather conditions.\n",
    "* Drop any rows will null values."
   ]
  },
  {
   "cell_type": "code",
   "execution_count": 5,
   "metadata": {},
   "outputs": [
    {
     "data": {
      "text/html": [
       "<div>\n",
       "<style scoped>\n",
       "    .dataframe tbody tr th:only-of-type {\n",
       "        vertical-align: middle;\n",
       "    }\n",
       "\n",
       "    .dataframe tbody tr th {\n",
       "        vertical-align: top;\n",
       "    }\n",
       "\n",
       "    .dataframe thead th {\n",
       "        text-align: right;\n",
       "    }\n",
       "</style>\n",
       "<table border=\"1\" class=\"dataframe\">\n",
       "  <thead>\n",
       "    <tr style=\"text-align: right;\">\n",
       "      <th></th>\n",
       "      <th>Cities</th>\n",
       "      <th>Latitude</th>\n",
       "      <th>Longitude</th>\n",
       "      <th>Temperature(F)</th>\n",
       "      <th>Humidity(%)</th>\n",
       "      <th>Cloudiness(%)</th>\n",
       "      <th>Wind Speed(MPH)</th>\n",
       "      <th>Country</th>\n",
       "      <th>Datetime</th>\n",
       "    </tr>\n",
       "  </thead>\n",
       "  <tbody>\n",
       "    <tr>\n",
       "      <th>97</th>\n",
       "      <td>Quang Ngai</td>\n",
       "      <td>15.12</td>\n",
       "      <td>108.80</td>\n",
       "      <td>78.17</td>\n",
       "      <td>84</td>\n",
       "      <td>0</td>\n",
       "      <td>4.23</td>\n",
       "      <td>VN</td>\n",
       "      <td>1590953117</td>\n",
       "    </tr>\n",
       "    <tr>\n",
       "      <th>145</th>\n",
       "      <td>Khāsh</td>\n",
       "      <td>28.22</td>\n",
       "      <td>61.22</td>\n",
       "      <td>74.62</td>\n",
       "      <td>14</td>\n",
       "      <td>0</td>\n",
       "      <td>4.29</td>\n",
       "      <td>IR</td>\n",
       "      <td>1590953124</td>\n",
       "    </tr>\n",
       "    <tr>\n",
       "      <th>149</th>\n",
       "      <td>Yima</td>\n",
       "      <td>34.74</td>\n",
       "      <td>111.88</td>\n",
       "      <td>78.01</td>\n",
       "      <td>99</td>\n",
       "      <td>0</td>\n",
       "      <td>7.85</td>\n",
       "      <td>CN</td>\n",
       "      <td>1590953124</td>\n",
       "    </tr>\n",
       "    <tr>\n",
       "      <th>443</th>\n",
       "      <td>Kiryat Gat</td>\n",
       "      <td>31.61</td>\n",
       "      <td>34.76</td>\n",
       "      <td>71.01</td>\n",
       "      <td>75</td>\n",
       "      <td>0</td>\n",
       "      <td>7.63</td>\n",
       "      <td>IL</td>\n",
       "      <td>1590952922</td>\n",
       "    </tr>\n",
       "    <tr>\n",
       "      <th>473</th>\n",
       "      <td>Mastung</td>\n",
       "      <td>29.80</td>\n",
       "      <td>66.84</td>\n",
       "      <td>72.48</td>\n",
       "      <td>36</td>\n",
       "      <td>0</td>\n",
       "      <td>5.91</td>\n",
       "      <td>PK</td>\n",
       "      <td>1590953173</td>\n",
       "    </tr>\n",
       "    <tr>\n",
       "      <th>516</th>\n",
       "      <td>Ipameri</td>\n",
       "      <td>-17.72</td>\n",
       "      <td>-48.16</td>\n",
       "      <td>74.44</td>\n",
       "      <td>51</td>\n",
       "      <td>0</td>\n",
       "      <td>2.77</td>\n",
       "      <td>BR</td>\n",
       "      <td>1590953180</td>\n",
       "    </tr>\n",
       "  </tbody>\n",
       "</table>\n",
       "</div>"
      ],
      "text/plain": [
       "         Cities  Latitude  Longitude  Temperature(F)  Humidity(%)  \\\n",
       "97   Quang Ngai     15.12     108.80           78.17           84   \n",
       "145       Khāsh     28.22      61.22           74.62           14   \n",
       "149        Yima     34.74     111.88           78.01           99   \n",
       "443  Kiryat Gat     31.61      34.76           71.01           75   \n",
       "473     Mastung     29.80      66.84           72.48           36   \n",
       "516     Ipameri    -17.72     -48.16           74.44           51   \n",
       "\n",
       "     Cloudiness(%)  Wind Speed(MPH) Country    Datetime  \n",
       "97               0             4.23      VN  1590953117  \n",
       "145              0             4.29      IR  1590953124  \n",
       "149              0             7.85      CN  1590953124  \n",
       "443              0             7.63      IL  1590952922  \n",
       "473              0             5.91      PK  1590953173  \n",
       "516              0             2.77      BR  1590953180  "
      ]
     },
     "execution_count": 5,
     "metadata": {},
     "output_type": "execute_result"
    }
   ],
   "source": [
    "max_temp_df = city_df.loc[(city_df['Temperature(F)'] > 70) & (city_df['Temperature(F)'] < 80)]\n",
    "wind_df = max_temp_df.loc[max_temp_df['Wind Speed(MPH)'] < 10]\n",
    "hotel_df = wind_df.loc[wind_df['Cloudiness(%)'] == 0]\n",
    "hotel_df"
   ]
  },
  {
   "cell_type": "markdown",
   "metadata": {},
   "source": [
    "### Hotel Map\n",
    "* Store into variable named `hotel_df`.\n",
    "* Add a \"Hotel Name\" column to the DataFrame.\n",
    "* Set parameters to search for hotels with 5000 meters.\n",
    "* Hit the Google Places API for each city's coordinates.\n",
    "* Store the first Hotel result into the DataFrame.\n",
    "* Plot markers on top of the heatmap."
   ]
  },
  {
   "cell_type": "code",
   "execution_count": 6,
   "metadata": {},
   "outputs": [
    {
     "name": "stderr",
     "output_type": "stream",
     "text": [
      "C:\\Users\\oberm\\anaconda3\\lib\\site-packages\\ipykernel_launcher.py:1: SettingWithCopyWarning: \n",
      "A value is trying to be set on a copy of a slice from a DataFrame.\n",
      "Try using .loc[row_indexer,col_indexer] = value instead\n",
      "\n",
      "See the caveats in the documentation: https://pandas.pydata.org/pandas-docs/stable/user_guide/indexing.html#returning-a-view-versus-a-copy\n",
      "  \"\"\"Entry point for launching an IPython kernel.\n",
      "C:\\Users\\oberm\\anaconda3\\lib\\site-packages\\ipykernel_launcher.py:2: SettingWithCopyWarning: \n",
      "A value is trying to be set on a copy of a slice from a DataFrame.\n",
      "Try using .loc[row_indexer,col_indexer] = value instead\n",
      "\n",
      "See the caveats in the documentation: https://pandas.pydata.org/pandas-docs/stable/user_guide/indexing.html#returning-a-view-versus-a-copy\n",
      "  \n",
      "C:\\Users\\oberm\\anaconda3\\lib\\site-packages\\ipykernel_launcher.py:3: SettingWithCopyWarning: \n",
      "A value is trying to be set on a copy of a slice from a DataFrame.\n",
      "Try using .loc[row_indexer,col_indexer] = value instead\n",
      "\n",
      "See the caveats in the documentation: https://pandas.pydata.org/pandas-docs/stable/user_guide/indexing.html#returning-a-view-versus-a-copy\n",
      "  This is separate from the ipykernel package so we can avoid doing imports until\n",
      "C:\\Users\\oberm\\anaconda3\\lib\\site-packages\\ipykernel_launcher.py:4: SettingWithCopyWarning: \n",
      "A value is trying to be set on a copy of a slice from a DataFrame.\n",
      "Try using .loc[row_indexer,col_indexer] = value instead\n",
      "\n",
      "See the caveats in the documentation: https://pandas.pydata.org/pandas-docs/stable/user_guide/indexing.html#returning-a-view-versus-a-copy\n",
      "  after removing the cwd from sys.path.\n"
     ]
    }
   ],
   "source": [
    "hotel_df['Hotel Name']=\"\"\n",
    "hotel_df['Address']=\"\"\n",
    "hotel_df['Hotel Lat']=\"\"\n",
    "hotel_df['Hotel Lon']=\"\""
   ]
  },
  {
   "cell_type": "code",
   "execution_count": 7,
   "metadata": {
    "scrolled": true
   },
   "outputs": [
    {
     "name": "stdout",
     "output_type": "stream",
     "text": [
      "Retrieving Results for Index 97: Quang Ngai.\n",
      "Closest hotel is Central Hotel.\n",
      "------------\n",
      "Retrieving Results for Index 145: Khāsh.\n"
     ]
    },
    {
     "name": "stderr",
     "output_type": "stream",
     "text": [
      "C:\\Users\\oberm\\anaconda3\\lib\\site-packages\\pandas\\core\\indexing.py:965: SettingWithCopyWarning: \n",
      "A value is trying to be set on a copy of a slice from a DataFrame.\n",
      "Try using .loc[row_indexer,col_indexer] = value instead\n",
      "\n",
      "See the caveats in the documentation: https://pandas.pydata.org/pandas-docs/stable/user_guide/indexing.html#returning-a-view-versus-a-copy\n",
      "  self.obj[item] = s\n"
     ]
    },
    {
     "name": "stdout",
     "output_type": "stream",
     "text": [
      "Closest hotel is دفتر پیشخوان دولت جمال زهی (خالد).\n",
      "------------\n",
      "Retrieving Results for Index 149: Yima.\n",
      "Closest hotel is Yima Hotel.\n",
      "------------\n",
      "Retrieving Results for Index 443: Kiryat Gat.\n",
      "Closest hotel is רגע בנחת.\n",
      "------------\n",
      "Retrieving Results for Index 473: Mastung.\n",
      "Closest hotel is Syed House.\n",
      "------------\n",
      "Retrieving Results for Index 516: Ipameri.\n",
      "Closest hotel is Real Hotel.\n",
      "------------\n"
     ]
    }
   ],
   "source": [
    "base_url = \"https://maps.googleapis.com/maps/api/place/nearbysearch/json\"\n",
    "params = {\n",
    "    \"type\": \"lodging\",\n",
    "    \"key\": g_key,\n",
    "    'radius': '5000'\n",
    "}\n",
    "\n",
    "for index, row in hotel_df.iterrows():\n",
    "\n",
    "    # get restaurant type from df\n",
    "    hotel_lat = row['Latitude'] \n",
    "    hotel_lon = row['Longitude']\n",
    "    params['location'] = (f'{hotel_lat},{hotel_lon}')\n",
    "\n",
    "    # assemble url and make API request\n",
    "    print(f\"Retrieving Results for Index {index}: {row['Cities']}.\")\n",
    "    response = requests.get(base_url, params=params).json()\n",
    "    results = response['results']\n",
    "    \n",
    "    try:\n",
    "        print(f\"Closest hotel is {results[0]['name']}.\")\n",
    "        hotel_df.loc[index, 'Hotel Name'] = results[0]['name']\n",
    "        hotel_df.loc[index, 'Address'] = results[0]['vicinity']\n",
    "        hotel_df.loc[index, 'Hotel Lat'] = results[0]['geometry']['location']['lat']\n",
    "        hotel_df.loc[index, 'Hotel Lon'] = results[0]['geometry']['location']['lng']\n",
    "        \n",
    "    except (KeyError, IndexError):\n",
    "        print(\"Missing field/result... skipping.\")\n",
    "        \n",
    "    print(\"------------\")"
   ]
  },
  {
   "cell_type": "code",
   "execution_count": null,
   "metadata": {},
   "outputs": [],
   "source": []
  },
  {
   "cell_type": "code",
   "execution_count": 8,
   "metadata": {},
   "outputs": [],
   "source": [
    "# Using the template add the hotel marks to the heatmap\n",
    "info_box_template = \"\"\"\n",
    "<dl>\n",
    "<dt>Name</dt><dd>{Hotel Name}</dd>\n",
    "<dt>City</dt><dd>{Cities}</dd>\n",
    "<dt>Country</dt><dd>{Country}</dd>\n",
    "</dl>\n",
    "\"\"\"\n",
    "# Store the DataFrame Row\n",
    "# NOTE: be sure to update with your DataFrame name\n",
    "hotel_info = [info_box_template.format(**row) for index, row in hotel_df.iterrows()]\n",
    "locations = hotel_df[[\"Hotel Lat\", \"Hotel Lon\"]]"
   ]
  },
  {
   "cell_type": "code",
   "execution_count": 10,
   "metadata": {
    "scrolled": true
   },
   "outputs": [
    {
     "data": {
      "application/vnd.jupyter.widget-view+json": {
       "model_id": "eb9b27d8af534d40b1a8719fb67be4dc",
       "version_major": 2,
       "version_minor": 0
      },
      "text/plain": [
       "Figure(layout=FigureLayout(border='1px solid black', height='300px', margin='0 auto 0 auto', padding='1px', wi…"
      ]
     },
     "metadata": {},
     "output_type": "display_data"
    }
   ],
   "source": [
    "# Add marker layer ontop of heat map\n",
    "markers = gmaps.marker_layer(locations, info_box_content=[f'{i}' for i in hotel_info])\n",
    "fig.add_layer(markers)\n",
    "# Display figure\n",
    "fig"
   ]
  },
  {
   "cell_type": "code",
   "execution_count": null,
   "metadata": {},
   "outputs": [],
   "source": []
  }
 ],
 "metadata": {
  "kernelspec": {
   "display_name": "Python [conda env:root] *",
   "language": "python",
   "name": "conda-root-py"
  },
  "language_info": {
   "codemirror_mode": {
    "name": "ipython",
    "version": 3
   },
   "file_extension": ".py",
   "mimetype": "text/x-python",
   "name": "python",
   "nbconvert_exporter": "python",
   "pygments_lexer": "ipython3",
   "version": "3.7.6"
  },
  "latex_envs": {
   "LaTeX_envs_menu_present": true,
   "autoclose": false,
   "autocomplete": true,
   "bibliofile": "biblio.bib",
   "cite_by": "apalike",
   "current_citInitial": 1,
   "eqLabelWithNumbers": true,
   "eqNumInitial": 1,
   "hotkeys": {
    "equation": "Ctrl-E",
    "itemize": "Ctrl-I"
   },
   "labels_anchors": false,
   "latex_user_defs": false,
   "report_style_numbering": false,
   "user_envs_cfg": false
  }
 },
 "nbformat": 4,
 "nbformat_minor": 2
}
